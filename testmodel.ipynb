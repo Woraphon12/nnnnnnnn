{
 "cells": [
  {
   "cell_type": "code",
   "execution_count": 1,
   "metadata": {},
   "outputs": [
    {
     "name": "stdout",
     "output_type": "stream",
     "text": [
      "✅ โหลดโมเดลสำเร็จ\n",
      "{\n",
      "    \"prediction\": \"Normal\",\n",
      "    \"abnormal_details\": [\n",
      "        \"💧 Abnormal Humidity (1%)\",\n",
      "        \"⚡ Abnormal RPM (1 RPM)\"\n",
      "    ]\n",
      "}\n"
     ]
    }
   ],
   "source": [
    "import os\n",
    "import joblib\n",
    "import pandas as pd\n",
    "import json\n",
    "\n",
    "# ตรวจสอบว่าไฟล์มีอยู่จริงก่อนโหลด\n",
    "model_path = \"machine_failure_model.pkl\"\n",
    "encoder_path = \"label_encoder.pkl\"\n",
    "\n",
    "if os.path.exists(model_path) and os.path.exists(encoder_path):\n",
    "    loaded_model = joblib.load(model_path)\n",
    "    loaded_le = joblib.load(encoder_path)\n",
    "    print(\"✅ โหลดโมเดลสำเร็จ\")\n",
    "else:\n",
    "    print(\"❌ ไม่พบไฟล์โมเดล โปรดตรวจสอบเส้นทางไฟล์\")\n",
    "    exit()\n",
    "\n",
    "def get_abnormal_details(input_data):\n",
    "    \"\"\"\n",
    "    ฟังก์ชันนี้จะตรวจสอบค่าจาก input_data และคืนรายการของความผิดปกติพร้อมค่าที่ trigger\n",
    "    \"\"\"\n",
    "    details = []\n",
    "    if input_data[\"Temperature\"] > 100:\n",
    "        details.append(f\"🔥 High Temperature ({input_data['Temperature']}°C)\")\n",
    "    if input_data[\"Vibration\"] > 1.0:\n",
    "        details.append(f\"🔧 High Vibration ({input_data['Vibration']})\")\n",
    "    if input_data[\"Machine_Age\"] > 7:\n",
    "        details.append(f\"⚙ Aging (Machine Age: {input_data['Machine_Age']} years)\")\n",
    "    if input_data[\"Operating_Hours\"] > 5000:\n",
    "        details.append(f\"⏳ High Operating Hours ({input_data['Operating_Hours']} hrs)\")\n",
    "    if input_data[\"Humidity\"] < 20 or input_data[\"Humidity\"] > 80:\n",
    "        details.append(f\"💧 Abnormal Humidity ({input_data['Humidity']}%)\")\n",
    "    if input_data[\"RPM\"] < 500 or input_data[\"RPM\"] > 5000:\n",
    "        details.append(f\"⚡ Abnormal RPM ({input_data['RPM']} RPM)\")\n",
    "    return details\n",
    "\n",
    "# ตัวอย่างข้อมูลใหม่จากเซ็นเซอร์\n",
    "new_data = {\n",
    "    \"Temperature\": 1,    # ค่าอุณหภูมิ\n",
    "    \"Vibration\": 1,        # ค่าการสั่นสะเทือน\n",
    "    \"Machine_Age\": 1,        # อายุเครื่องจักร (ปี)\n",
    "    \"Humidity\": 1,          # ความชื้น (%)\n",
    "    \"RPM\": 1,              # ความเร็วรอบ (RPM)\n",
    "    \"Operating_Hours\": 1  # ชั่วโมงการทำงาน\n",
    "}\n",
    "\n",
    "# แปลงข้อมูลใหม่เป็น DataFrame\n",
    "new_df = pd.DataFrame.from_dict([new_data])\n",
    "\n",
    "# ทำนายผล\n",
    "predicted_numeric = loaded_model.predict(new_df)\n",
    "predicted_abnormality = loaded_le.inverse_transform(predicted_numeric)\n",
    "\n",
    "# แสดงผลลัพธ์\n",
    "abnormal_details = get_abnormal_details(new_data)\n",
    "result = {\n",
    "    \"prediction\": predicted_abnormality[0],\n",
    "    \"abnormal_details\": abnormal_details\n",
    "}\n",
    "\n",
    "print(json.dumps(result, indent=4, ensure_ascii=False))"
   ]
  }
 ],
 "metadata": {
  "kernelspec": {
   "display_name": "Python 3",
   "language": "python",
   "name": "python3"
  },
  "language_info": {
   "codemirror_mode": {
    "name": "ipython",
    "version": 3
   },
   "file_extension": ".py",
   "mimetype": "text/x-python",
   "name": "python",
   "nbconvert_exporter": "python",
   "pygments_lexer": "ipython3",
   "version": "3.13.1"
  }
 },
 "nbformat": 4,
 "nbformat_minor": 2
}
